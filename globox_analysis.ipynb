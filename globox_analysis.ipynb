{
  "nbformat": 4,
  "nbformat_minor": 0,
  "metadata": {
    "colab": {
      "provenance": [],
      "mount_file_id": "1W2i4x0G6VZ5gQ5GI-7f5OFDOJ0xwkuLA",
      "authorship_tag": "ABX9TyOwnEtEkplmICYpisxRctZE",
      "include_colab_link": true
    },
    "kernelspec": {
      "name": "python3",
      "display_name": "Python 3"
    },
    "language_info": {
      "name": "python"
    }
  },
  "cells": [
    {
      "cell_type": "markdown",
      "metadata": {
        "id": "view-in-github",
        "colab_type": "text"
      },
      "source": [
        "<a href=\"https://colab.research.google.com/github/SQLTECHPRO/SQL-Data/blob/main/globox_analysis.ipynb\" target=\"_parent\"><img src=\"https://colab.research.google.com/assets/colab-badge.svg\" alt=\"Open In Colab\"/></a>"
      ]
    },
    {
      "cell_type": "markdown",
      "source": [
        "#Load Dataset & Libraries"
      ],
      "metadata": {
        "id": "AY-VL58LmAkQ"
      }
    },
    {
      "cell_type": "code",
      "execution_count": null,
      "metadata": {
        "colab": {
          "base_uri": "https://localhost:8080/"
        },
        "id": "KWy1OsdYl4YY",
        "outputId": "9ac35b51-3a4f-4887-ce48-ed7fc0ca566d"
      },
      "outputs": [
        {
          "output_type": "stream",
          "name": "stdout",
          "text": [
            "/content/drive/MyDrive/Master Inferential Stats Project\n"
          ]
        }
      ],
      "source": [
        "%cd /content/drive/MyDrive/Master Inferential Stats Project"
      ]
    },
    {
      "cell_type": "code",
      "source": [
        "import pandas as pd\n",
        "\n",
        "df = pd.read_csv(\"glo_box.csv\", header=0, index_col=0, skipinitialspace=True)\n",
        "\n",
        "df.head()"
      ],
      "metadata": {
        "colab": {
          "base_uri": "https://localhost:8080/",
          "height": 237
        },
        "id": "GCjJtBJ1mWDe",
        "outputId": "a6dabe41-931f-4cff-f61b-50ab38216bc4"
      },
      "execution_count": null,
      "outputs": [
        {
          "output_type": "execute_result",
          "data": {
            "text/plain": [
              "        country gender group    join_dt device  sum\n",
              "id                                                 \n",
              "1022718     MEX      M     A  1/25/2023      I  NaN\n",
              "1007436     USA      M     A   2/3/2023      I  NaN\n",
              "1001069     BRA      M     A   2/1/2023      A  NaN\n",
              "1021424     GBR      M     A  1/28/2023      A  NaN\n",
              "1012176     USA      M     B  1/26/2023      I  NaN"
            ],
            "text/html": [
              "\n",
              "  <div id=\"df-2df038bc-2def-4a3c-b928-a1aeb4909de3\">\n",
              "    <div class=\"colab-df-container\">\n",
              "      <div>\n",
              "<style scoped>\n",
              "    .dataframe tbody tr th:only-of-type {\n",
              "        vertical-align: middle;\n",
              "    }\n",
              "\n",
              "    .dataframe tbody tr th {\n",
              "        vertical-align: top;\n",
              "    }\n",
              "\n",
              "    .dataframe thead th {\n",
              "        text-align: right;\n",
              "    }\n",
              "</style>\n",
              "<table border=\"1\" class=\"dataframe\">\n",
              "  <thead>\n",
              "    <tr style=\"text-align: right;\">\n",
              "      <th></th>\n",
              "      <th>country</th>\n",
              "      <th>gender</th>\n",
              "      <th>group</th>\n",
              "      <th>join_dt</th>\n",
              "      <th>device</th>\n",
              "      <th>sum</th>\n",
              "    </tr>\n",
              "    <tr>\n",
              "      <th>id</th>\n",
              "      <th></th>\n",
              "      <th></th>\n",
              "      <th></th>\n",
              "      <th></th>\n",
              "      <th></th>\n",
              "      <th></th>\n",
              "    </tr>\n",
              "  </thead>\n",
              "  <tbody>\n",
              "    <tr>\n",
              "      <th>1022718</th>\n",
              "      <td>MEX</td>\n",
              "      <td>M</td>\n",
              "      <td>A</td>\n",
              "      <td>1/25/2023</td>\n",
              "      <td>I</td>\n",
              "      <td>NaN</td>\n",
              "    </tr>\n",
              "    <tr>\n",
              "      <th>1007436</th>\n",
              "      <td>USA</td>\n",
              "      <td>M</td>\n",
              "      <td>A</td>\n",
              "      <td>2/3/2023</td>\n",
              "      <td>I</td>\n",
              "      <td>NaN</td>\n",
              "    </tr>\n",
              "    <tr>\n",
              "      <th>1001069</th>\n",
              "      <td>BRA</td>\n",
              "      <td>M</td>\n",
              "      <td>A</td>\n",
              "      <td>2/1/2023</td>\n",
              "      <td>A</td>\n",
              "      <td>NaN</td>\n",
              "    </tr>\n",
              "    <tr>\n",
              "      <th>1021424</th>\n",
              "      <td>GBR</td>\n",
              "      <td>M</td>\n",
              "      <td>A</td>\n",
              "      <td>1/28/2023</td>\n",
              "      <td>A</td>\n",
              "      <td>NaN</td>\n",
              "    </tr>\n",
              "    <tr>\n",
              "      <th>1012176</th>\n",
              "      <td>USA</td>\n",
              "      <td>M</td>\n",
              "      <td>B</td>\n",
              "      <td>1/26/2023</td>\n",
              "      <td>I</td>\n",
              "      <td>NaN</td>\n",
              "    </tr>\n",
              "  </tbody>\n",
              "</table>\n",
              "</div>\n",
              "      <button class=\"colab-df-convert\" onclick=\"convertToInteractive('df-2df038bc-2def-4a3c-b928-a1aeb4909de3')\"\n",
              "              title=\"Convert this dataframe to an interactive table.\"\n",
              "              style=\"display:none;\">\n",
              "        \n",
              "  <svg xmlns=\"http://www.w3.org/2000/svg\" height=\"24px\"viewBox=\"0 0 24 24\"\n",
              "       width=\"24px\">\n",
              "    <path d=\"M0 0h24v24H0V0z\" fill=\"none\"/>\n",
              "    <path d=\"M18.56 5.44l.94 2.06.94-2.06 2.06-.94-2.06-.94-.94-2.06-.94 2.06-2.06.94zm-11 1L8.5 8.5l.94-2.06 2.06-.94-2.06-.94L8.5 2.5l-.94 2.06-2.06.94zm10 10l.94 2.06.94-2.06 2.06-.94-2.06-.94-.94-2.06-.94 2.06-2.06.94z\"/><path d=\"M17.41 7.96l-1.37-1.37c-.4-.4-.92-.59-1.43-.59-.52 0-1.04.2-1.43.59L10.3 9.45l-7.72 7.72c-.78.78-.78 2.05 0 2.83L4 21.41c.39.39.9.59 1.41.59.51 0 1.02-.2 1.41-.59l7.78-7.78 2.81-2.81c.8-.78.8-2.07 0-2.86zM5.41 20L4 18.59l7.72-7.72 1.47 1.35L5.41 20z\"/>\n",
              "  </svg>\n",
              "      </button>\n",
              "      \n",
              "  <style>\n",
              "    .colab-df-container {\n",
              "      display:flex;\n",
              "      flex-wrap:wrap;\n",
              "      gap: 12px;\n",
              "    }\n",
              "\n",
              "    .colab-df-convert {\n",
              "      background-color: #E8F0FE;\n",
              "      border: none;\n",
              "      border-radius: 50%;\n",
              "      cursor: pointer;\n",
              "      display: none;\n",
              "      fill: #1967D2;\n",
              "      height: 32px;\n",
              "      padding: 0 0 0 0;\n",
              "      width: 32px;\n",
              "    }\n",
              "\n",
              "    .colab-df-convert:hover {\n",
              "      background-color: #E2EBFA;\n",
              "      box-shadow: 0px 1px 2px rgba(60, 64, 67, 0.3), 0px 1px 3px 1px rgba(60, 64, 67, 0.15);\n",
              "      fill: #174EA6;\n",
              "    }\n",
              "\n",
              "    [theme=dark] .colab-df-convert {\n",
              "      background-color: #3B4455;\n",
              "      fill: #D2E3FC;\n",
              "    }\n",
              "\n",
              "    [theme=dark] .colab-df-convert:hover {\n",
              "      background-color: #434B5C;\n",
              "      box-shadow: 0px 1px 3px 1px rgba(0, 0, 0, 0.15);\n",
              "      filter: drop-shadow(0px 1px 2px rgba(0, 0, 0, 0.3));\n",
              "      fill: #FFFFFF;\n",
              "    }\n",
              "  </style>\n",
              "\n",
              "      <script>\n",
              "        const buttonEl =\n",
              "          document.querySelector('#df-2df038bc-2def-4a3c-b928-a1aeb4909de3 button.colab-df-convert');\n",
              "        buttonEl.style.display =\n",
              "          google.colab.kernel.accessAllowed ? 'block' : 'none';\n",
              "\n",
              "        async function convertToInteractive(key) {\n",
              "          const element = document.querySelector('#df-2df038bc-2def-4a3c-b928-a1aeb4909de3');\n",
              "          const dataTable =\n",
              "            await google.colab.kernel.invokeFunction('convertToInteractive',\n",
              "                                                     [key], {});\n",
              "          if (!dataTable) return;\n",
              "\n",
              "          const docLinkHtml = 'Like what you see? Visit the ' +\n",
              "            '<a target=\"_blank\" href=https://colab.research.google.com/notebooks/data_table.ipynb>data table notebook</a>'\n",
              "            + ' to learn more about interactive tables.';\n",
              "          element.innerHTML = '';\n",
              "          dataTable['output_type'] = 'display_data';\n",
              "          await google.colab.output.renderOutput(dataTable, element);\n",
              "          const docLink = document.createElement('div');\n",
              "          docLink.innerHTML = docLinkHtml;\n",
              "          element.appendChild(docLink);\n",
              "        }\n",
              "      </script>\n",
              "    </div>\n",
              "  </div>\n",
              "  "
            ]
          },
          "metadata": {},
          "execution_count": 4
        }
      ]
    },
    {
      "cell_type": "code",
      "source": [
        "df.shape"
      ],
      "metadata": {
        "colab": {
          "base_uri": "https://localhost:8080/"
        },
        "id": "t5iaK91vswAP",
        "outputId": "9a929ba7-9926-46b0-f61a-57bba9dd2f3f"
      },
      "execution_count": null,
      "outputs": [
        {
          "output_type": "execute_result",
          "data": {
            "text/plain": [
              "(48943, 6)"
            ]
          },
          "metadata": {},
          "execution_count": 5
        }
      ]
    },
    {
      "cell_type": "code",
      "source": [
        "df.info()"
      ],
      "metadata": {
        "colab": {
          "base_uri": "https://localhost:8080/"
        },
        "id": "dQfdAbo3szaT",
        "outputId": "0264ed7e-2468-4741-c828-def7867620c4"
      },
      "execution_count": null,
      "outputs": [
        {
          "output_type": "stream",
          "name": "stdout",
          "text": [
            "<class 'pandas.core.frame.DataFrame'>\n",
            "Int64Index: 48943 entries, 1022718 to 1046785\n",
            "Data columns (total 6 columns):\n",
            " #   Column   Non-Null Count  Dtype  \n",
            "---  ------   --------------  -----  \n",
            " 0   country  48300 non-null  object \n",
            " 1   gender   42088 non-null  object \n",
            " 2   group    48943 non-null  object \n",
            " 3   join_dt  48943 non-null  object \n",
            " 4   device   48649 non-null  object \n",
            " 5   sum      2094 non-null   float64\n",
            "dtypes: float64(1), object(5)\n",
            "memory usage: 2.6+ MB\n"
          ]
        }
      ]
    },
    {
      "cell_type": "code",
      "source": [
        "df['sum'].fillna(0, inplace=True)\n",
        "df\n"
      ],
      "metadata": {
        "colab": {
          "base_uri": "https://localhost:8080/",
          "height": 455
        },
        "id": "x4CIBLE2tWrq",
        "outputId": "bae8fb5c-ec48-4d07-8ca4-7a1a2d7466d7"
      },
      "execution_count": null,
      "outputs": [
        {
          "output_type": "execute_result",
          "data": {
            "text/plain": [
              "        country gender group    join_dt device  sum\n",
              "id                                                 \n",
              "1022718     MEX      M     A  1/25/2023      I  0.0\n",
              "1007436     USA      M     A   2/3/2023      I  0.0\n",
              "1001069     BRA      M     A   2/1/2023      A  0.0\n",
              "1021424     GBR      M     A  1/28/2023      A  0.0\n",
              "1012176     USA      M     B  1/26/2023      I  0.0\n",
              "...         ...    ...   ...        ...    ...  ...\n",
              "1038269     DEU      M     A   2/5/2023      A  0.0\n",
              "1041446     FRA      M     A  1/28/2023      I  0.0\n",
              "1032450     TUR      M     B   2/2/2023      I  0.0\n",
              "1036224     DEU      F     B   2/6/2023      I  0.0\n",
              "1046785     GBR      F     B  1/25/2023      A  0.0\n",
              "\n",
              "[48943 rows x 6 columns]"
            ],
            "text/html": [
              "\n",
              "  <div id=\"df-a2bac496-110f-4f9e-b267-18bf04d1f950\">\n",
              "    <div class=\"colab-df-container\">\n",
              "      <div>\n",
              "<style scoped>\n",
              "    .dataframe tbody tr th:only-of-type {\n",
              "        vertical-align: middle;\n",
              "    }\n",
              "\n",
              "    .dataframe tbody tr th {\n",
              "        vertical-align: top;\n",
              "    }\n",
              "\n",
              "    .dataframe thead th {\n",
              "        text-align: right;\n",
              "    }\n",
              "</style>\n",
              "<table border=\"1\" class=\"dataframe\">\n",
              "  <thead>\n",
              "    <tr style=\"text-align: right;\">\n",
              "      <th></th>\n",
              "      <th>country</th>\n",
              "      <th>gender</th>\n",
              "      <th>group</th>\n",
              "      <th>join_dt</th>\n",
              "      <th>device</th>\n",
              "      <th>sum</th>\n",
              "    </tr>\n",
              "    <tr>\n",
              "      <th>id</th>\n",
              "      <th></th>\n",
              "      <th></th>\n",
              "      <th></th>\n",
              "      <th></th>\n",
              "      <th></th>\n",
              "      <th></th>\n",
              "    </tr>\n",
              "  </thead>\n",
              "  <tbody>\n",
              "    <tr>\n",
              "      <th>1022718</th>\n",
              "      <td>MEX</td>\n",
              "      <td>M</td>\n",
              "      <td>A</td>\n",
              "      <td>1/25/2023</td>\n",
              "      <td>I</td>\n",
              "      <td>0.0</td>\n",
              "    </tr>\n",
              "    <tr>\n",
              "      <th>1007436</th>\n",
              "      <td>USA</td>\n",
              "      <td>M</td>\n",
              "      <td>A</td>\n",
              "      <td>2/3/2023</td>\n",
              "      <td>I</td>\n",
              "      <td>0.0</td>\n",
              "    </tr>\n",
              "    <tr>\n",
              "      <th>1001069</th>\n",
              "      <td>BRA</td>\n",
              "      <td>M</td>\n",
              "      <td>A</td>\n",
              "      <td>2/1/2023</td>\n",
              "      <td>A</td>\n",
              "      <td>0.0</td>\n",
              "    </tr>\n",
              "    <tr>\n",
              "      <th>1021424</th>\n",
              "      <td>GBR</td>\n",
              "      <td>M</td>\n",
              "      <td>A</td>\n",
              "      <td>1/28/2023</td>\n",
              "      <td>A</td>\n",
              "      <td>0.0</td>\n",
              "    </tr>\n",
              "    <tr>\n",
              "      <th>1012176</th>\n",
              "      <td>USA</td>\n",
              "      <td>M</td>\n",
              "      <td>B</td>\n",
              "      <td>1/26/2023</td>\n",
              "      <td>I</td>\n",
              "      <td>0.0</td>\n",
              "    </tr>\n",
              "    <tr>\n",
              "      <th>...</th>\n",
              "      <td>...</td>\n",
              "      <td>...</td>\n",
              "      <td>...</td>\n",
              "      <td>...</td>\n",
              "      <td>...</td>\n",
              "      <td>...</td>\n",
              "    </tr>\n",
              "    <tr>\n",
              "      <th>1038269</th>\n",
              "      <td>DEU</td>\n",
              "      <td>M</td>\n",
              "      <td>A</td>\n",
              "      <td>2/5/2023</td>\n",
              "      <td>A</td>\n",
              "      <td>0.0</td>\n",
              "    </tr>\n",
              "    <tr>\n",
              "      <th>1041446</th>\n",
              "      <td>FRA</td>\n",
              "      <td>M</td>\n",
              "      <td>A</td>\n",
              "      <td>1/28/2023</td>\n",
              "      <td>I</td>\n",
              "      <td>0.0</td>\n",
              "    </tr>\n",
              "    <tr>\n",
              "      <th>1032450</th>\n",
              "      <td>TUR</td>\n",
              "      <td>M</td>\n",
              "      <td>B</td>\n",
              "      <td>2/2/2023</td>\n",
              "      <td>I</td>\n",
              "      <td>0.0</td>\n",
              "    </tr>\n",
              "    <tr>\n",
              "      <th>1036224</th>\n",
              "      <td>DEU</td>\n",
              "      <td>F</td>\n",
              "      <td>B</td>\n",
              "      <td>2/6/2023</td>\n",
              "      <td>I</td>\n",
              "      <td>0.0</td>\n",
              "    </tr>\n",
              "    <tr>\n",
              "      <th>1046785</th>\n",
              "      <td>GBR</td>\n",
              "      <td>F</td>\n",
              "      <td>B</td>\n",
              "      <td>1/25/2023</td>\n",
              "      <td>A</td>\n",
              "      <td>0.0</td>\n",
              "    </tr>\n",
              "  </tbody>\n",
              "</table>\n",
              "<p>48943 rows × 6 columns</p>\n",
              "</div>\n",
              "      <button class=\"colab-df-convert\" onclick=\"convertToInteractive('df-a2bac496-110f-4f9e-b267-18bf04d1f950')\"\n",
              "              title=\"Convert this dataframe to an interactive table.\"\n",
              "              style=\"display:none;\">\n",
              "        \n",
              "  <svg xmlns=\"http://www.w3.org/2000/svg\" height=\"24px\"viewBox=\"0 0 24 24\"\n",
              "       width=\"24px\">\n",
              "    <path d=\"M0 0h24v24H0V0z\" fill=\"none\"/>\n",
              "    <path d=\"M18.56 5.44l.94 2.06.94-2.06 2.06-.94-2.06-.94-.94-2.06-.94 2.06-2.06.94zm-11 1L8.5 8.5l.94-2.06 2.06-.94-2.06-.94L8.5 2.5l-.94 2.06-2.06.94zm10 10l.94 2.06.94-2.06 2.06-.94-2.06-.94-.94-2.06-.94 2.06-2.06.94z\"/><path d=\"M17.41 7.96l-1.37-1.37c-.4-.4-.92-.59-1.43-.59-.52 0-1.04.2-1.43.59L10.3 9.45l-7.72 7.72c-.78.78-.78 2.05 0 2.83L4 21.41c.39.39.9.59 1.41.59.51 0 1.02-.2 1.41-.59l7.78-7.78 2.81-2.81c.8-.78.8-2.07 0-2.86zM5.41 20L4 18.59l7.72-7.72 1.47 1.35L5.41 20z\"/>\n",
              "  </svg>\n",
              "      </button>\n",
              "      \n",
              "  <style>\n",
              "    .colab-df-container {\n",
              "      display:flex;\n",
              "      flex-wrap:wrap;\n",
              "      gap: 12px;\n",
              "    }\n",
              "\n",
              "    .colab-df-convert {\n",
              "      background-color: #E8F0FE;\n",
              "      border: none;\n",
              "      border-radius: 50%;\n",
              "      cursor: pointer;\n",
              "      display: none;\n",
              "      fill: #1967D2;\n",
              "      height: 32px;\n",
              "      padding: 0 0 0 0;\n",
              "      width: 32px;\n",
              "    }\n",
              "\n",
              "    .colab-df-convert:hover {\n",
              "      background-color: #E2EBFA;\n",
              "      box-shadow: 0px 1px 2px rgba(60, 64, 67, 0.3), 0px 1px 3px 1px rgba(60, 64, 67, 0.15);\n",
              "      fill: #174EA6;\n",
              "    }\n",
              "\n",
              "    [theme=dark] .colab-df-convert {\n",
              "      background-color: #3B4455;\n",
              "      fill: #D2E3FC;\n",
              "    }\n",
              "\n",
              "    [theme=dark] .colab-df-convert:hover {\n",
              "      background-color: #434B5C;\n",
              "      box-shadow: 0px 1px 3px 1px rgba(0, 0, 0, 0.15);\n",
              "      filter: drop-shadow(0px 1px 2px rgba(0, 0, 0, 0.3));\n",
              "      fill: #FFFFFF;\n",
              "    }\n",
              "  </style>\n",
              "\n",
              "      <script>\n",
              "        const buttonEl =\n",
              "          document.querySelector('#df-a2bac496-110f-4f9e-b267-18bf04d1f950 button.colab-df-convert');\n",
              "        buttonEl.style.display =\n",
              "          google.colab.kernel.accessAllowed ? 'block' : 'none';\n",
              "\n",
              "        async function convertToInteractive(key) {\n",
              "          const element = document.querySelector('#df-a2bac496-110f-4f9e-b267-18bf04d1f950');\n",
              "          const dataTable =\n",
              "            await google.colab.kernel.invokeFunction('convertToInteractive',\n",
              "                                                     [key], {});\n",
              "          if (!dataTable) return;\n",
              "\n",
              "          const docLinkHtml = 'Like what you see? Visit the ' +\n",
              "            '<a target=\"_blank\" href=https://colab.research.google.com/notebooks/data_table.ipynb>data table notebook</a>'\n",
              "            + ' to learn more about interactive tables.';\n",
              "          element.innerHTML = '';\n",
              "          dataTable['output_type'] = 'display_data';\n",
              "          await google.colab.output.renderOutput(dataTable, element);\n",
              "          const docLink = document.createElement('div');\n",
              "          docLink.innerHTML = docLinkHtml;\n",
              "          element.appendChild(docLink);\n",
              "        }\n",
              "      </script>\n",
              "    </div>\n",
              "  </div>\n",
              "  "
            ]
          },
          "metadata": {},
          "execution_count": 7
        }
      ]
    },
    {
      "cell_type": "code",
      "source": [
        "df[\"converstion_status\"] = df[\"sum\"].apply(lambda x: \"not converted\" if x <= 0 else \"converted\")\n",
        "df.tail()"
      ],
      "metadata": {
        "colab": {
          "base_uri": "https://localhost:8080/",
          "height": 237
        },
        "id": "eyp4RQDFugYY",
        "outputId": "59439772-6573-4d86-fc16-e4c3b159b906"
      },
      "execution_count": null,
      "outputs": [
        {
          "output_type": "execute_result",
          "data": {
            "text/plain": [
              "        country gender group    join_dt device  sum converstion_status\n",
              "id                                                                    \n",
              "1038269     DEU      M     A   2/5/2023      A  0.0      not converted\n",
              "1041446     FRA      M     A  1/28/2023      I  0.0      not converted\n",
              "1032450     TUR      M     B   2/2/2023      I  0.0      not converted\n",
              "1036224     DEU      F     B   2/6/2023      I  0.0      not converted\n",
              "1046785     GBR      F     B  1/25/2023      A  0.0      not converted"
            ],
            "text/html": [
              "\n",
              "  <div id=\"df-8a9cc3c8-6d97-46f2-aeee-f3068f40d4b2\">\n",
              "    <div class=\"colab-df-container\">\n",
              "      <div>\n",
              "<style scoped>\n",
              "    .dataframe tbody tr th:only-of-type {\n",
              "        vertical-align: middle;\n",
              "    }\n",
              "\n",
              "    .dataframe tbody tr th {\n",
              "        vertical-align: top;\n",
              "    }\n",
              "\n",
              "    .dataframe thead th {\n",
              "        text-align: right;\n",
              "    }\n",
              "</style>\n",
              "<table border=\"1\" class=\"dataframe\">\n",
              "  <thead>\n",
              "    <tr style=\"text-align: right;\">\n",
              "      <th></th>\n",
              "      <th>country</th>\n",
              "      <th>gender</th>\n",
              "      <th>group</th>\n",
              "      <th>join_dt</th>\n",
              "      <th>device</th>\n",
              "      <th>sum</th>\n",
              "      <th>converstion_status</th>\n",
              "    </tr>\n",
              "    <tr>\n",
              "      <th>id</th>\n",
              "      <th></th>\n",
              "      <th></th>\n",
              "      <th></th>\n",
              "      <th></th>\n",
              "      <th></th>\n",
              "      <th></th>\n",
              "      <th></th>\n",
              "    </tr>\n",
              "  </thead>\n",
              "  <tbody>\n",
              "    <tr>\n",
              "      <th>1038269</th>\n",
              "      <td>DEU</td>\n",
              "      <td>M</td>\n",
              "      <td>A</td>\n",
              "      <td>2/5/2023</td>\n",
              "      <td>A</td>\n",
              "      <td>0.0</td>\n",
              "      <td>not converted</td>\n",
              "    </tr>\n",
              "    <tr>\n",
              "      <th>1041446</th>\n",
              "      <td>FRA</td>\n",
              "      <td>M</td>\n",
              "      <td>A</td>\n",
              "      <td>1/28/2023</td>\n",
              "      <td>I</td>\n",
              "      <td>0.0</td>\n",
              "      <td>not converted</td>\n",
              "    </tr>\n",
              "    <tr>\n",
              "      <th>1032450</th>\n",
              "      <td>TUR</td>\n",
              "      <td>M</td>\n",
              "      <td>B</td>\n",
              "      <td>2/2/2023</td>\n",
              "      <td>I</td>\n",
              "      <td>0.0</td>\n",
              "      <td>not converted</td>\n",
              "    </tr>\n",
              "    <tr>\n",
              "      <th>1036224</th>\n",
              "      <td>DEU</td>\n",
              "      <td>F</td>\n",
              "      <td>B</td>\n",
              "      <td>2/6/2023</td>\n",
              "      <td>I</td>\n",
              "      <td>0.0</td>\n",
              "      <td>not converted</td>\n",
              "    </tr>\n",
              "    <tr>\n",
              "      <th>1046785</th>\n",
              "      <td>GBR</td>\n",
              "      <td>F</td>\n",
              "      <td>B</td>\n",
              "      <td>1/25/2023</td>\n",
              "      <td>A</td>\n",
              "      <td>0.0</td>\n",
              "      <td>not converted</td>\n",
              "    </tr>\n",
              "  </tbody>\n",
              "</table>\n",
              "</div>\n",
              "      <button class=\"colab-df-convert\" onclick=\"convertToInteractive('df-8a9cc3c8-6d97-46f2-aeee-f3068f40d4b2')\"\n",
              "              title=\"Convert this dataframe to an interactive table.\"\n",
              "              style=\"display:none;\">\n",
              "        \n",
              "  <svg xmlns=\"http://www.w3.org/2000/svg\" height=\"24px\"viewBox=\"0 0 24 24\"\n",
              "       width=\"24px\">\n",
              "    <path d=\"M0 0h24v24H0V0z\" fill=\"none\"/>\n",
              "    <path d=\"M18.56 5.44l.94 2.06.94-2.06 2.06-.94-2.06-.94-.94-2.06-.94 2.06-2.06.94zm-11 1L8.5 8.5l.94-2.06 2.06-.94-2.06-.94L8.5 2.5l-.94 2.06-2.06.94zm10 10l.94 2.06.94-2.06 2.06-.94-2.06-.94-.94-2.06-.94 2.06-2.06.94z\"/><path d=\"M17.41 7.96l-1.37-1.37c-.4-.4-.92-.59-1.43-.59-.52 0-1.04.2-1.43.59L10.3 9.45l-7.72 7.72c-.78.78-.78 2.05 0 2.83L4 21.41c.39.39.9.59 1.41.59.51 0 1.02-.2 1.41-.59l7.78-7.78 2.81-2.81c.8-.78.8-2.07 0-2.86zM5.41 20L4 18.59l7.72-7.72 1.47 1.35L5.41 20z\"/>\n",
              "  </svg>\n",
              "      </button>\n",
              "      \n",
              "  <style>\n",
              "    .colab-df-container {\n",
              "      display:flex;\n",
              "      flex-wrap:wrap;\n",
              "      gap: 12px;\n",
              "    }\n",
              "\n",
              "    .colab-df-convert {\n",
              "      background-color: #E8F0FE;\n",
              "      border: none;\n",
              "      border-radius: 50%;\n",
              "      cursor: pointer;\n",
              "      display: none;\n",
              "      fill: #1967D2;\n",
              "      height: 32px;\n",
              "      padding: 0 0 0 0;\n",
              "      width: 32px;\n",
              "    }\n",
              "\n",
              "    .colab-df-convert:hover {\n",
              "      background-color: #E2EBFA;\n",
              "      box-shadow: 0px 1px 2px rgba(60, 64, 67, 0.3), 0px 1px 3px 1px rgba(60, 64, 67, 0.15);\n",
              "      fill: #174EA6;\n",
              "    }\n",
              "\n",
              "    [theme=dark] .colab-df-convert {\n",
              "      background-color: #3B4455;\n",
              "      fill: #D2E3FC;\n",
              "    }\n",
              "\n",
              "    [theme=dark] .colab-df-convert:hover {\n",
              "      background-color: #434B5C;\n",
              "      box-shadow: 0px 1px 3px 1px rgba(0, 0, 0, 0.15);\n",
              "      filter: drop-shadow(0px 1px 2px rgba(0, 0, 0, 0.3));\n",
              "      fill: #FFFFFF;\n",
              "    }\n",
              "  </style>\n",
              "\n",
              "      <script>\n",
              "        const buttonEl =\n",
              "          document.querySelector('#df-8a9cc3c8-6d97-46f2-aeee-f3068f40d4b2 button.colab-df-convert');\n",
              "        buttonEl.style.display =\n",
              "          google.colab.kernel.accessAllowed ? 'block' : 'none';\n",
              "\n",
              "        async function convertToInteractive(key) {\n",
              "          const element = document.querySelector('#df-8a9cc3c8-6d97-46f2-aeee-f3068f40d4b2');\n",
              "          const dataTable =\n",
              "            await google.colab.kernel.invokeFunction('convertToInteractive',\n",
              "                                                     [key], {});\n",
              "          if (!dataTable) return;\n",
              "\n",
              "          const docLinkHtml = 'Like what you see? Visit the ' +\n",
              "            '<a target=\"_blank\" href=https://colab.research.google.com/notebooks/data_table.ipynb>data table notebook</a>'\n",
              "            + ' to learn more about interactive tables.';\n",
              "          element.innerHTML = '';\n",
              "          dataTable['output_type'] = 'display_data';\n",
              "          await google.colab.output.renderOutput(dataTable, element);\n",
              "          const docLink = document.createElement('div');\n",
              "          docLink.innerHTML = docLinkHtml;\n",
              "          element.appendChild(docLink);\n",
              "        }\n",
              "      </script>\n",
              "    </div>\n",
              "  </div>\n",
              "  "
            ]
          },
          "metadata": {},
          "execution_count": 8
        }
      ]
    },
    {
      "cell_type": "markdown",
      "source": [
        "#Average Amount Spent Per User\n"
      ],
      "metadata": {
        "id": "lkhA2-2pbGqI"
      }
    },
    {
      "cell_type": "code",
      "source": [
        "import pandas as pd\n",
        "\n",
        "# Load the data from your table into a pandas DataFrame\n",
        "#df = pd.read_csv('your_table.csv')\n",
        "\n",
        "# Group the data by group and calculate the mean amount spent for each group\n",
        "grouped_data = df.groupby('group')['sum'].mean()\n",
        "\n",
        "# Print the average amount spent per group A and group B\n",
        "print(\"Average amount spent per group A: \", grouped_data['A'])\n",
        "print(\"Average amount spent per group B: \", grouped_data['B'])\n"
      ],
      "metadata": {
        "colab": {
          "base_uri": "https://localhost:8080/"
        },
        "id": "F5OLL1b-bNXG",
        "outputId": "e24f89b7-b996-4c2a-b3a3-e7189e935081"
      },
      "execution_count": null,
      "outputs": [
        {
          "output_type": "stream",
          "name": "stdout",
          "text": [
            "Average amount spent per group A:  3.3745184679299185\n",
            "Average amount spent per group B:  3.3908669458926424\n"
          ]
        }
      ]
    },
    {
      "cell_type": "markdown",
      "source": [
        "#Average amount spent per user in the control at 95% confidence interval"
      ],
      "metadata": {
        "id": "UqtiP6mXb-FH"
      }
    },
    {
      "cell_type": "code",
      "source": [
        "import pandas as pd\n",
        "import numpy as np\n",
        "from scipy import stats\n",
        "\n",
        "# Extract the amount spent data for the control group (group A)\n",
        "control_spending = df.loc[df['group'] == 'A', 'sum']\n",
        "\n",
        "# Calculate the sample mean and standard deviation\n",
        "mean = control_spending.mean()\n",
        "std_dev = control_spending.std(ddof=1)\n",
        "\n",
        "# Calculate the standard error of the mean\n",
        "n = len(control_spending)\n",
        "sem = std_dev / np.sqrt(n)\n",
        "\n",
        "# Calculate the margin of error for the 95% confidence interval\n",
        "margin_of_error = stats.t.ppf(0.975, n-1) * sem\n",
        "\n",
        "# Calculate the lower and upper bounds of the confidence interval\n",
        "lower_bound = mean - margin_of_error\n",
        "upper_bound = mean + margin_of_error\n",
        "\n",
        "# Print the results\n",
        "print(f\"95% confidence interval for the average amount spent per user in the control group (group A): [{lower_bound:.2f}, {upper_bound:.2f}]\")\n"
      ],
      "metadata": {
        "colab": {
          "base_uri": "https://localhost:8080/"
        },
        "id": "DniTy7UPb_gU",
        "outputId": "b0fe59c2-97df-469e-8f7b-d0df68987e76"
      },
      "execution_count": null,
      "outputs": [
        {
          "output_type": "stream",
          "name": "stdout",
          "text": [
            "95% confidence interval for the average amount spent per user in the control group (group A): [3.05, 3.70]\n"
          ]
        }
      ]
    },
    {
      "cell_type": "markdown",
      "source": [
        "#Average amount spent per user in the treat group at 95% confidence interval"
      ],
      "metadata": {
        "id": "4WUfXugCcwhX"
      }
    },
    {
      "cell_type": "code",
      "source": [
        "import pandas as pd\n",
        "import numpy as np\n",
        "from scipy import stats\n",
        "\n",
        "# Extract the amount spent data for the control group (group A)\n",
        "control_spending = df.loc[df['group'] == 'B', 'sum']\n",
        "\n",
        "# Calculate the sample mean and standard deviation\n",
        "mean = control_spending.mean()\n",
        "std_dev = control_spending.std(ddof=1)\n",
        "\n",
        "# Calculate the standard error of the mean\n",
        "n = len(control_spending)\n",
        "sem = std_dev / np.sqrt(n)\n",
        "\n",
        "# Calculate the margin of error for the 95% confidence interval\n",
        "margin_of_error = stats.t.ppf(0.975, n-1) * sem\n",
        "\n",
        "# Calculate the lower and upper bounds of the confidence interval\n",
        "lower_bound = mean - margin_of_error\n",
        "upper_bound = mean + margin_of_error\n",
        "\n",
        "# Print the results\n",
        "print(f\"95% confidence interval for the average amount spent per user in the control group (group A): [{lower_bound:.2f}, {upper_bound:.2f}]\")\n"
      ],
      "metadata": {
        "colab": {
          "base_uri": "https://localhost:8080/"
        },
        "id": "kFrgTnlwc3AU",
        "outputId": "b21929df-19ca-4814-e243-161d6bd06a1e"
      },
      "execution_count": null,
      "outputs": [
        {
          "output_type": "stream",
          "name": "stdout",
          "text": [
            "95% confidence interval for the average amount spent per user in the control group (group A): [3.07, 3.71]\n"
          ]
        }
      ]
    },
    {
      "cell_type": "markdown",
      "source": [
        "### Conduct a hypothesis test to see whether there is a difference in the average amount spent per user between the two groups. What are the resulting p-value and conclusion?"
      ],
      "metadata": {
        "id": "G2MNwFLYdSFF"
      }
    },
    {
      "cell_type": "code",
      "source": [
        "import pandas as pd\n",
        "from scipy import stats\n",
        "\n",
        "# Extract the amount spent data for the two groups\n",
        "group_a_spending = df.loc[df['group'] == 'A', 'sum']\n",
        "group_b_spending = df.loc[df['group'] == 'B', 'sum']\n",
        "\n",
        "# Perform a two-sample t-test assuming unequal variances\n",
        "t_statistic, p_value = stats.ttest_ind(group_a_spending, group_b_spending, equal_var=False)\n",
        "\n",
        "# Print the results\n",
        "print(\"t-statistic:\", t_statistic)\n",
        "print(\"p-value:\", p_value)\n",
        "\n",
        "# Determine the conclusion based on the p-value\n",
        "alpha = 0.05\n",
        "if p_value < alpha:\n",
        "    print(\"We reject the null hypothesis.\")\n",
        "else:\n",
        "    print(\"We fail to reject the null hypothesis.\")\n"
      ],
      "metadata": {
        "colab": {
          "base_uri": "https://localhost:8080/"
        },
        "id": "_PsOsmwhdhFM",
        "outputId": "6fa395ad-725d-4872-f379-5a1350fe4264"
      },
      "execution_count": null,
      "outputs": [
        {
          "output_type": "stream",
          "name": "stdout",
          "text": [
            "t-statistic: -0.07042491002232605\n",
            "p-value: 0.943855753153128\n",
            "We fail to reject the null hypothesis.\n"
          ]
        }
      ]
    },
    {
      "cell_type": "markdown",
      "source": [
        "#What is the 95% confidence interval for the difference in the average amount spent per user between the treatment and the control (treatment-control)?"
      ],
      "metadata": {
        "id": "_9YA3m8EeHuM"
      }
    },
    {
      "cell_type": "code",
      "source": [
        "import pandas as pd\n",
        "import numpy as np\n",
        "from scipy import stats\n",
        "\n",
        "# Extract the amount spent data for the two groups\n",
        "treatment_spending = df.loc[df['group'] == 'B', 'sum']\n",
        "control_spending = df.loc[df['group'] == 'A', 'sum']\n",
        "\n",
        "# Calculate the sample means and standard deviations\n",
        "treatment_mean = treatment_spending.mean()\n",
        "control_mean = control_spending.mean()\n",
        "treatment_std_dev = treatment_spending.std(ddof=1)\n",
        "control_std_dev = control_spending.std(ddof=1)\n",
        "\n",
        "# Calculate the standard error of the difference between the means\n",
        "n_treatment = len(treatment_spending)\n",
        "n_control = len(control_spending)\n",
        "sem = np.sqrt((treatment_std_dev**2 / n_treatment) + (control_std_dev**2 / n_control))\n",
        "\n",
        "# Calculate the margin of error for the 95% confidence interval\n",
        "margin_of_error = stats.t.ppf(0.975, n_treatment+n_control-2) * sem\n",
        "\n",
        "# Calculate the lower and upper bounds of the confidence interval\n",
        "diff_mean = treatment_mean - control_mean\n",
        "lower_bound = diff_mean - margin_of_error\n",
        "upper_bound = diff_mean + margin_of_error\n",
        "\n",
        "# Print the results\n",
        "print(f\"95% confidence interval for the difference in the average amount spent per user between the treatment and control groups: [{lower_bound:.2f}, {upper_bound:.2f}]\")\n"
      ],
      "metadata": {
        "colab": {
          "base_uri": "https://localhost:8080/"
        },
        "id": "U6wy1Sr2eIQU",
        "outputId": "150bb06f-70e5-49e0-96b7-2234798a1c6b"
      },
      "execution_count": null,
      "outputs": [
        {
          "output_type": "stream",
          "name": "stdout",
          "text": [
            "95% confidence interval for the difference in the average amount spent per user between the treatment and control groups: [-0.44, 0.47]\n"
          ]
        }
      ]
    },
    {
      "cell_type": "markdown",
      "source": [
        "#What is the user conversion rate for the control and treatment groups? "
      ],
      "metadata": {
        "id": "hxzoRCCcwbj5"
      }
    },
    {
      "cell_type": "code",
      "source": [
        "import pandas as pd\n",
        "\n",
        "# Count the number of users in each group who made a purchase\n",
        "control_conversions = df.loc[(df['group'] == 'A') & (df['sum'] > 0)].index.nunique()\n",
        "treatment_conversions = df.loc[(df['group'] == 'B') & (df['sum'] > 0)].index.nunique()\n",
        "\n",
        "# Count the total number of users in each group\n",
        "control_users = df.loc[df['group'] == 'A'].index.nunique()\n",
        "treatment_users = df.loc[df['group'] == 'B'].index.nunique()\n",
        "\n",
        "# Calculate the conversion rate for each group\n",
        "control_conversion_rate = control_conversions / control_users\n",
        "treatment_conversion_rate = treatment_conversions / treatment_users\n",
        "\n",
        "# Print the results\n",
        "print(\"Conversion rate for the control group (group A): {:.2%}\".format(control_conversion_rate))\n",
        "print(\"Conversion rate for the treatment group (group B): {:.2%}\".format(treatment_conversion_rate))\n",
        "\n",
        "\n"
      ],
      "metadata": {
        "colab": {
          "base_uri": "https://localhost:8080/"
        },
        "id": "TSuGgkWsilWT",
        "outputId": "da020062-eba2-4f29-a89c-7d39f8044837"
      },
      "execution_count": null,
      "outputs": [
        {
          "output_type": "stream",
          "name": "stdout",
          "text": [
            "Conversion rate for the control group (group A): 3.92%\n",
            "Conversion rate for the treatment group (group B): 4.63%\n"
          ]
        }
      ]
    },
    {
      "cell_type": "markdown",
      "source": [
        "#What is the 95% confidence interval for the conversion rate of users in the control?"
      ],
      "metadata": {
        "id": "OL4KehcJvqFF"
      }
    },
    {
      "cell_type": "code",
      "source": [
        "import pandas as pd\n",
        "import numpy as np\n",
        "from scipy.stats import norm\n",
        "\n",
        "\n",
        "# Count the number of users in the control group who made a purchase\n",
        "control_conversions = df.loc[(df['group'] == 'A') & (df['sum'] > 0)].index.nunique()\n",
        "\n",
        "# Count the total number of users in the control group\n",
        "control_users = df.loc[df['group'] == 'A'].index.nunique()\n",
        "\n",
        "# Calculate the conversion rate for the control group\n",
        "control_conversion_rate = control_conversions / control_users\n",
        "\n",
        "# Calculate the standard error of the conversion rate\n",
        "se = np.sqrt((control_conversion_rate * (1 - control_conversion_rate)) / control_users)\n",
        "\n",
        "# Calculate the 95% confidence interval using the formula\n",
        "z_score = norm.ppf(0.975)\n",
        "lower_ci = control_conversion_rate - z_score * se\n",
        "upper_ci = control_conversion_rate + z_score * se\n",
        "\n",
        "# Print the results\n",
        "print(\"95% Confidence Interval for Conversion Rate in Control Group: ({:.2%}, {:.2%})\".format(lower_ci, upper_ci))\n"
      ],
      "metadata": {
        "colab": {
          "base_uri": "https://localhost:8080/"
        },
        "id": "Qgt26KKHvvCN",
        "outputId": "57fe2e5f-2733-4bca-8fbc-69a0ad6ab825"
      },
      "execution_count": null,
      "outputs": [
        {
          "output_type": "stream",
          "name": "stdout",
          "text": [
            "95% Confidence Interval for Conversion Rate in Control Group: (3.68%, 4.17%)\n"
          ]
        }
      ]
    },
    {
      "cell_type": "markdown",
      "source": [
        "#What is the 95% confidence interval for the conversion rate of users in the treatment?"
      ],
      "metadata": {
        "id": "KB7zdJSQwx0g"
      }
    },
    {
      "cell_type": "code",
      "source": [
        "import pandas as pd\n",
        "import numpy as np\n",
        "from scipy.stats import norm\n",
        "\n",
        "# Count the number of users in the treatment group who made a purchase\n",
        "treatment_conversions = df.loc[(df['group'] == 'B') & (df['sum'] > 0)].index.nunique()\n",
        "\n",
        "# Count the total number of users in the treatment group\n",
        "treatment_users = df.loc[df['group'] == 'B'].index.nunique()\n",
        "\n",
        "# Calculate the conversion rate for the treatment group\n",
        "treatment_conversion_rate = treatment_conversions / treatment_users\n",
        "\n",
        "# Calculate the standard error of the conversion rate\n",
        "se = np.sqrt((treatment_conversion_rate * (1 - treatment_conversion_rate)) / treatment_users)\n",
        "\n",
        "# Calculate the 95% confidence interval using the formula\n",
        "z_score = norm.ppf(0.975)\n",
        "lower_ci = treatment_conversion_rate - z_score * se\n",
        "upper_ci = treatment_conversion_rate + z_score * se\n",
        "\n",
        "# Print the results\n",
        "print(\"Conversion Rate in Treatment Group: {:.2%}\".format(treatment_conversion_rate))\n",
        "print(\"95% Confidence Interval for Conversion Rate in Treatment Group: ({:.2%}, {:.2%})\".format(lower_ci, upper_ci))\n"
      ],
      "metadata": {
        "colab": {
          "base_uri": "https://localhost:8080/"
        },
        "id": "ynzn2j0Iw4AK",
        "outputId": "7e8a5c0e-99d3-4c01-fab1-6262c2e25d3d"
      },
      "execution_count": null,
      "outputs": [
        {
          "output_type": "stream",
          "name": "stdout",
          "text": [
            "Conversion Rate in Treatment Group: 4.63%\n",
            "95% Confidence Interval for Conversion Rate in Treatment Group: (4.37%, 4.89%)\n"
          ]
        }
      ]
    },
    {
      "cell_type": "markdown",
      "source": [
        "#Conduct a hypothesis test to see whether there is a difference in the conversion rate between the two groups. What are the resulting p-value and conclusion?"
      ],
      "metadata": {
        "id": "p2sPCtQGxXk4"
      }
    },
    {
      "cell_type": "code",
      "source": [
        "import pandas as pd\n",
        "import numpy as np\n",
        "from scipy.stats import norm\n",
        "\n",
        "\n",
        "# Count the number of conversions and users in each group\n",
        "control_conversions = df.loc[(df['group'] == 'A') & (df['sum'] > 0)].index.nunique()\n",
        "treatment_conversions = df.loc[(df['group'] == 'B') & (df['sum'] > 0)].index.nunique()\n",
        "control_users = df.loc[df['group'] == 'A'].index.nunique()\n",
        "treatment_users = df.loc[df['group'] == 'B'].index.nunique()\n",
        "\n",
        "# Calculate the conversion rates for each group\n",
        "control_conversion_rate = control_conversions / control_users\n",
        "treatment_conversion_rate = treatment_conversions / treatment_users\n",
        "\n",
        "# Calculate the pooled standard error\n",
        "pooled_se = np.sqrt(((control_conversion_rate * (1 - control_conversion_rate)) / control_users) + ((treatment_conversion_rate * (1 - treatment_conversion_rate)) / treatment_users))\n",
        "\n",
        "# Calculate the z-score and p-value\n",
        "z_score = (treatment_conversion_rate - control_conversion_rate) / pooled_se\n",
        "p_value = norm.sf(abs(z_score)) * 2\n",
        "\n",
        "# Print the results\n",
        "print(\"Control Conversion Rate: {:.2%}\".format(control_conversion_rate))\n",
        "print(\"Treatment Conversion Rate: {:.2%}\".format(treatment_conversion_rate))\n",
        "print(\"Pooled Standard Error: {:.4f}\".format(pooled_se))\n",
        "print(\"Z-score: {:.4f}\".format(z_score))\n",
        "print(\"Two-tailed p-value: {:.4f}\".format(p_value))\n",
        "\n",
        "# Test for statistical significance\n",
        "if p_value < 0.05:\n",
        "    print(\"The difference in conversion rate between the two groups is statistically significant (p < 0.05)\")\n",
        "else:\n",
        "    print(\"The difference in conversion rate between the two groups is not statistically significant (p >= 0.05)\")\n",
        "\n",
        "# Test for statistical significance\n",
        "alpha = 0.05\n",
        "if p_value < alpha:\n",
        "    print(\"The difference in conversion rate between the two groups is statistically significant (p < {:.2f}), so we reject the null hypothesis\".format(alpha))\n",
        "else:\n",
        "    print(\"The difference in conversion rate between the two groups is not statistically significant (p >= {:.2f}), so we fail to reject the null hypothesis\".format(alpha))\n"
      ],
      "metadata": {
        "colab": {
          "base_uri": "https://localhost:8080/"
        },
        "id": "oEyneAB8xbD7",
        "outputId": "e80dd0df-2717-4fcf-d286-1fa8c91c9148"
      },
      "execution_count": null,
      "outputs": [
        {
          "output_type": "stream",
          "name": "stdout",
          "text": [
            "Control Conversion Rate: 3.92%\n",
            "Treatment Conversion Rate: 4.63%\n",
            "Pooled Standard Error: 0.0018\n",
            "Z-score: 3.8665\n",
            "Two-tailed p-value: 0.0001\n",
            "The difference in conversion rate between the two groups is statistically significant (p < 0.05)\n",
            "The difference in conversion rate between the two groups is statistically significant (p < 0.05), so we reject the null hypothesis\n"
          ]
        }
      ]
    },
    {
      "cell_type": "markdown",
      "source": [
        "#What is the 95% confidence interval for the difference in the conversion rate between the treatment and control (treatment-control)? This question is required."
      ],
      "metadata": {
        "id": "u2XdKQhNzGNB"
      }
    },
    {
      "cell_type": "code",
      "source": [
        "import pandas as pd\n",
        "import numpy as np\n",
        "from scipy.stats import norm\n",
        "\n",
        "# Count the number of conversions and users in each group\n",
        "control_conversions = df.loc[(df['group'] == 'A') & (df['sum'] > 0)].index.nunique()\n",
        "treatment_conversions = df.loc[(df['group'] == 'B') & (df['sum'] > 0)].index.nunique()\n",
        "control_users = df.loc[df['group'] == 'A'].index.nunique()\n",
        "treatment_users = df.loc[df['group'] == 'B'].index.nunique()\n",
        "\n",
        "# Calculate the conversion rates for each group\n",
        "control_conversion_rate = control_conversions / control_users\n",
        "treatment_conversion_rate = treatment_conversions / treatment_users\n",
        "\n",
        "# Calculate the standard error of the difference in conversion rates\n",
        "se = np.sqrt(((treatment_conversion_rate * (1 - treatment_conversion_rate)) / treatment_users) + ((control_conversion_rate * (1 - control_conversion_rate)) / control_users))\n",
        "\n",
        "# Calculate the 95% confidence interval for the difference in conversion rates\n",
        "diff = treatment_conversion_rate - control_conversion_rate\n",
        "lower_ci = diff - 1.96 * se\n",
        "upper_ci = diff + 1.96 * se\n",
        "\n",
        "# Print the results\n",
        "print(\"Difference in Conversion Rates: {:.2%}\".format(diff))\n",
        "print(\"95% Confidence Interval for Difference in Conversion Rates: ({:.2%}, {:.2%})\".format(lower_ci, upper_ci))\n"
      ],
      "metadata": {
        "colab": {
          "base_uri": "https://localhost:8080/"
        },
        "id": "BfW899ALzKwL",
        "outputId": "91c33f3f-402a-43e8-817f-e033e0b474e4"
      },
      "execution_count": null,
      "outputs": [
        {
          "output_type": "stream",
          "name": "stdout",
          "text": [
            "Difference in Conversion Rates: 0.71%\n",
            "95% Confidence Interval for Difference in Conversion Rates: (0.35%, 1.07%)\n"
          ]
        }
      ]
    },
    {
      "cell_type": "markdown",
      "source": [
        "#Bar Graph: Conversion Rates and Confidence Intervals\n"
      ],
      "metadata": {
        "id": "O64sCo8r04AE"
      }
    },
    {
      "cell_type": "code",
      "source": [
        "import pandas as pd\n",
        "import numpy as np\n",
        "import matplotlib.pyplot as plt\n",
        "from scipy.stats import norm\n",
        "\n",
        "# Count the number of conversions and users in each group\n",
        "control_conversions = df.loc[(df['group'] == 'A') & (df['sum'] > 0)].index.nunique()\n",
        "treatment_conversions = df.loc[(df['group'] == 'B') & (df['sum'] > 0)].index.nunique()\n",
        "control_users = df.loc[df['group'] == 'A'].index.nunique()\n",
        "treatment_users = df.loc[df['group'] == 'B'].index.nunique()\n",
        "\n",
        "# Calculate the conversion rates for each group\n",
        "control_conversion_rate = control_conversions / control_users\n",
        "treatment_conversion_rate = treatment_conversions / treatment_users\n",
        "\n",
        "# Calculate the standard error of the conversion rate for each group\n",
        "control_se = np.sqrt((control_conversion_rate * (1 - control_conversion_rate)) / control_users)\n",
        "treatment_se = np.sqrt((treatment_conversion_rate * (1 - treatment_conversion_rate)) / treatment_users)\n",
        "\n",
        "# Calculate the confidence interval for each group\n",
        "control_ci = 1.96 * control_se\n",
        "treatment_ci = 1.96 * treatment_se\n",
        "\n",
        "# Set up the data for the bar chart\n",
        "labels = ['Control', 'Treatment']\n",
        "conversion_rates = [control_conversion_rate, treatment_conversion_rate]\n",
        "cis = [control_ci, treatment_ci]\n",
        "\n",
        "# Set up colors for the bars\n",
        "colors = ['#FFC857', '#845EC2']\n",
        "\n",
        "# Create the bar chart\n",
        "fig, ax = plt.subplots()\n",
        "ax.bar(labels, conversion_rates, yerr=cis, align='center', alpha=0.5, ecolor='black', capsize=10, color=colors)\n",
        "ax.set_ylim([0, max(conversion_rates) + max(cis) + 0.02])\n",
        "ax.set_ylabel('Conversion Rate')\n",
        "ax.set_title('Conversion Rate by Group')\n",
        "\n",
        "# Add the conversion rates and confidence intervals to the chart\n",
        "for i, v in enumerate(conversion_rates):\n",
        "    ax.text(i, v + cis[i] + 0.01, \"{:.2%}\".format(v), ha='center')\n",
        "    ax.text(i, v - cis[i] - 0.03, \"CI: ({:.2%}, {:.2%})\".format(v - cis[i], v + cis[i]), ha='center')\n",
        "\n",
        "# Show the chart\n",
        "plt.show()\n",
        "\n"
      ],
      "metadata": {
        "colab": {
          "base_uri": "https://localhost:8080/",
          "height": 452
        },
        "id": "Btsm4cjM04o_",
        "outputId": "de591ea5-92b4-4f7e-fd29-a511b8ea6692"
      },
      "execution_count": null,
      "outputs": [
        {
          "output_type": "display_data",
          "data": {
            "text/plain": [
              "<Figure size 640x480 with 1 Axes>"
            ],
            "image/png": "[encoded data removed]"
          },
          "metadata": {}
        }
      ]
    },
    {
      "cell_type": "markdown",
      "source": [
        "#Distribution Plot"
      ],
      "metadata": {
        "id": "bBSMvLvC14HS"
      }
    },
    {
      "cell_type": "code",
      "source": [
        "import pandas as pd\n",
        "import matplotlib.pyplot as plt\n",
        "import seaborn as sns\n",
        "\n",
        "\n",
        "# Create separate arrays of the amount spent by users in each group\n",
        "control_amount_spent = df.loc[df['group'] == 'A', 'sum']\n",
        "treatment_amount_spent = df.loc[df['group'] == 'B', 'sum']\n",
        "\n",
        "# Set up the plot\n",
        "fig, ax = plt.subplots()\n",
        "\n",
        "# Create the histogram with density curve and rug plot overlaid for the control group\n",
        "sns.distplot(control_amount_spent, hist=True, kde=True, rug=True, label='Control', ax=ax)\n",
        "\n",
        "# Create the histogram with density curve and rug plot overlaid for the treatment group\n",
        "sns.distplot(treatment_amount_spent, hist=True, kde=True, rug=True, label='Treatment', ax=ax)\n",
        "\n",
        "# Add labels and legend to the plot\n",
        "ax.set_xlabel('Amount Spent')\n",
        "ax.set_ylabel('Density')\n",
        "ax.set_title('Distribution of Amount Spent by Group')\n",
        "ax.legend()\n",
        "\n",
        "# Show the plot\n",
        "plt.show()\n"
      ],
      "metadata": {
        "colab": {
          "base_uri": "https://localhost:8080/",
          "height": 878
        },
        "id": "G7llJWIK142_",
        "outputId": "bd6b70b7-d510-44f6-99e1-aea922e405fa"
      },
      "execution_count": null,
      "outputs": [
        {
          "output_type": "stream",
          "name": "stderr",
          "text": [
            "<ipython-input-20-7853237f25cf>:14: UserWarning: \n",
            "\n",
            "`distplot` is a deprecated function and will be removed in seaborn v0.14.0.\n",
            "\n",
            "Please adapt your code to use either `displot` (a figure-level function with\n",
            "similar flexibility) or `histplot` (an axes-level function for histograms).\n",
            "\n",
            "For a guide to updating your code to use the new functions, please see\n",
            "https://gist.github.com/mwaskom/de44147ed2974457ad6372750bbe5751\n",
            "\n",
            "  sns.distplot(control_amount_spent, hist=True, kde=True, rug=True, label='Control', ax=ax)\n",
            "<ipython-input-20-7853237f25cf>:17: UserWarning: \n",
            "\n",
            "`distplot` is a deprecated function and will be removed in seaborn v0.14.0.\n",
            "\n",
            "Please adapt your code to use either `displot` (a figure-level function with\n",
            "similar flexibility) or `histplot` (an axes-level function for histograms).\n",
            "\n",
            "For a guide to updating your code to use the new functions, please see\n",
            "https://gist.github.com/mwaskom/de44147ed2974457ad6372750bbe5751\n",
            "\n",
            "  sns.distplot(treatment_amount_spent, hist=True, kde=True, rug=True, label='Treatment', ax=ax)\n"
          ]
        },
        {
          "output_type": "display_data",
          "data": {
            "text/plain": [
              "<Figure size 640x480 with 1 Axes>"
            ],
            "image/png": "[encoded data removed]"
          },
          "metadata": {}
        }
      ]
    },
    {
      "cell_type": "markdown",
      "source": [
        "#Total Number of Users in Each Group"
      ],
      "metadata": {
        "id": "v1Td7nTd3mme"
      }
    },
    {
      "cell_type": "code",
      "source": [
        "import pandas as pd\n",
        "import matplotlib.pyplot as plt\n",
        "\n",
        "# Count the number of candidates in each group\n",
        "control_candidates = df.loc[df['group'] == 'A'].index.nunique()\n",
        "treatment_candidates = df.loc[df['group'] == 'B'].index.nunique()\n",
        "\n",
        "# Set up the data for the bar chart\n",
        "labels = ['Control', 'Treatment']\n",
        "candidates = [control_candidates, treatment_candidates]\n",
        "colors = ['#FED976', '#800080']  \n",
        "\n",
        "# Create the bar chart\n",
        "fig, ax = plt.subplots()\n",
        "ax.bar(labels, candidates, align='center', alpha=0.5, color=colors)\n",
        "ax.set_ylabel('Number of Candidates')\n",
        "ax.set_title('Number of Candidates by Group')\n",
        "\n",
        "# Add the number of candidates to the chart\n",
        "for i, v in enumerate(candidates):\n",
        "    ax.text(i, v + 0.01, \"{}\".format(v), ha='center')\n",
        "\n",
        "# Show the chart\n",
        "plt.show()\n",
        "\n"
      ],
      "metadata": {
        "colab": {
          "base_uri": "https://localhost:8080/",
          "height": 452
        },
        "id": "BxgTpxpG3tXv",
        "outputId": "9473cd92-9a4b-4b59-c969-d7494f2a6e7b"
      },
      "execution_count": null,
      "outputs": [
        {
          "output_type": "display_data",
          "data": {
            "text/plain": [
              "<Figure size 640x480 with 1 Axes>"
            ],
            "image/png": "[encoded data removed]"
          },
          "metadata": {}
        }
      ]
    },
    {
      "cell_type": "markdown",
      "source": [
        "#Pie Graph Raw Conversions\n"
      ],
      "metadata": {
        "id": "hDDUJ8Aw36BW"
      }
    },
    {
      "cell_type": "code",
      "source": [
        "import pandas as pd\n",
        "import matplotlib.pyplot as plt\n",
        "\n",
        "\n",
        "# Count the number of conversions and users in each group\n",
        "control_conversions = df.loc[(df['group'] == 'A') & (df['sum'] > 0)].index.nunique()\n",
        "treatment_conversions = df.loc[(df['group'] == 'B') & (df['sum'] > 0)].index.nunique()\n",
        "control_users = df.loc[df['group'] == 'A'].index.nunique()\n",
        "treatment_users = df.loc[df['group'] == 'B'].index.nunique()\n",
        "\n",
        "# Calculate the conversion rates for each group\n",
        "control_conversion_rate = control_conversions / control_users\n",
        "treatment_conversion_rate = treatment_conversions / treatment_users\n",
        "\n",
        "# Set up the data for the pie chart\n",
        "labels = ['Control', 'Treatment']\n",
        "conversion_rates = [control_conversion_rate, treatment_conversion_rate]\n",
        "\n",
        "# Define colors for the pie chart\n",
        "colors = ['#FFD700', '#800080']\n",
        "\n",
        "# Create the pie chart\n",
        "fig, ax = plt.subplots()\n",
        "ax.pie(conversion_rates, labels=labels, autopct='%1.1f%%', startangle=90, colors=colors)\n",
        "ax.set_title('Conversion Rate by Group')\n",
        "\n",
        "# Show the chart\n",
        "plt.show()\n",
        "\n"
      ],
      "metadata": {
        "colab": {
          "base_uri": "https://localhost:8080/",
          "height": 428
        },
        "id": "kv9BINZY362I",
        "outputId": "1d7e79c1-b164-4321-fb1f-9a38b352724c"
      },
      "execution_count": null,
      "outputs": [
        {
          "output_type": "display_data",
          "data": {
            "text/plain": [
              "<Figure size 640x480 with 1 Axes>"
            ],
            "image/png": "[encoded data removed]"
          },
          "metadata": {}
        }
      ]
    },
    {
      "cell_type": "markdown",
      "source": [
        "#Conversion Rate by Gender"
      ],
      "metadata": {
        "id": "OfUgsOEQ5Cqy"
      }
    },
    {
      "cell_type": "code",
      "source": [
        "import pandas as pd\n",
        "import matplotlib.pyplot as plt\n",
        "\n",
        "# Load the data from your table into a pandas DataFrame\n",
        "df_2 = pd.read_csv('glo_box.csv')\n",
        "\n",
        "# Create a pivot table that shows the number of users who converted by gender and group\n",
        "pivot_table = pd.pivot_table(df_2.loc[df_2['sum'] > 0], index='gender', columns='group', values='id', aggfunc='nunique')\n",
        "\n",
        "# Create the stacked bar chart with bright purple and yellow colors\n",
        "ax = pivot_table.plot(kind='bar', stacked=True, alpha=0.5, color=['#f1c40f', '#c45ad4'])\n",
        "ax.set_ylabel('Number of Users Who Converted')\n",
        "ax.set_title('Gender Distribution of Users Who Converted by Group')\n",
        "\n",
        "# Show the chart\n",
        "plt.show()\n",
        "\n",
        "\n",
        "\n",
        "\n",
        "\n",
        "\n"
      ],
      "metadata": {
        "colab": {
          "base_uri": "https://localhost:8080/",
          "height": 470
        },
        "id": "K4DsUKfh5Gye",
        "outputId": "7247795e-ea78-4d47-ba28-378f8470a300"
      },
      "execution_count": null,
      "outputs": [
        {
          "output_type": "display_data",
          "data": {
            "text/plain": [
              "<Figure size 640x480 with 1 Axes>"
            ],
            "image/png": "[encoded data removed]"
          },
          "metadata": {}
        }
      ]
    },
    {
      "cell_type": "markdown",
      "source": [
        "# Number of Users By Gender For New Webpage"
      ],
      "metadata": {
        "id": "X-G1qfV8FDPW"
      }
    },
    {
      "cell_type": "code",
      "source": [
        "import pandas as pd\n",
        "import matplotlib.pyplot as plt\n",
        "\n",
        "# Load the data from your table into a pandas DataFrame\n",
        "df_2 = pd.read_csv('glo_box.csv')\n",
        "\n",
        "# Create a pivot table that shows the number of users who converted by gender and group\n",
        "pivot_table = pd.pivot_table(df_2.loc[df_2['sum'] > 0], index='gender', columns='group', values='id', aggfunc='nunique')\n",
        "\n",
        "# Create the stacked bar chart with bright purple and yellow colors\n",
        "ax = pivot_table.plot(kind='bar', stacked=True, alpha=0.5, color=['#f1c40f', '#c45ad4'])\n",
        "ax.set_ylabel('Number of Users Who Converted')\n",
        "ax.set_title('Number of Users By Gender For New Webpage')\n",
        "\n",
        "# Show the chart\n",
        "plt.show()\n"
      ],
      "metadata": {
        "colab": {
          "base_uri": "https://localhost:8080/",
          "height": 470
        },
        "id": "4guWBajsExhq",
        "outputId": "0cb38f89-d342-4d99-af4b-6909ef7e1044"
      },
      "execution_count": null,
      "outputs": [
        {
          "output_type": "display_data",
          "data": {
            "text/plain": [
              "<Figure size 640x480 with 1 Axes>"
            ],
            "image/png": "[encoded data removed]"
          },
          "metadata": {}
        }
      ]
    },
    {
      "cell_type": "markdown",
      "source": [
        "#New Webpage Conversion By Gender"
      ],
      "metadata": {
        "id": "gI5C2CKiGjd5"
      }
    },
    {
      "cell_type": "code",
      "source": [
        "import pandas as pd\n",
        "import matplotlib.pyplot as plt\n",
        "\n",
        "# Load the data from your table into a pandas DataFrame\n",
        "df_2 = pd.read_csv('glo_box.csv')\n",
        "\n",
        "# Create a pivot table that shows the number of users who converted by gender and group\n",
        "pivot_table = pd.pivot_table(df_2.loc[df_2['sum'] > 0], index='gender', columns='group', values='id', aggfunc='nunique')\n",
        "\n",
        "# Calculate the conversion rate by gender and group\n",
        "conversion_rate = pivot_table / df_2.pivot_table(index='gender', columns='group', values='id', aggfunc='nunique')\n",
        "\n",
        "# Create the stacked bar chart with bright purple and yellow colors\n",
        "ax = conversion_rate.loc[:, 'B'].plot(kind='bar', color=['#f1c40f', '#c45ad4'], alpha=0.5)\n",
        "ax.set_ylabel('Conversion Rate')\n",
        "ax.set_title('Conversion Rate by Gender for New Webpage')\n",
        "ax.set_ylim([0, 0.2])\n",
        "ax.yaxis.set_major_formatter(plt.FuncFormatter(lambda y, _: '{:.1%}'.format(y)))\n",
        "\n",
        "# Add conversion rate values above the bars\n",
        "for i, v in enumerate(conversion_rate.loc[:, 'B']):\n",
        "    ax.text(i, v+0.01, \"{:.1%}\".format(v), ha='center')\n",
        "\n",
        "# Show the chart\n",
        "plt.show()\n",
        "\n",
        "\n"
      ],
      "metadata": {
        "colab": {
          "base_uri": "https://localhost:8080/",
          "height": 470
        },
        "id": "-vgLM-7bFwCs",
        "outputId": "7bece2ea-005a-4b43-c97a-aa09a90fbef7"
      },
      "execution_count": null,
      "outputs": [
        {
          "output_type": "display_data",
          "data": {
            "text/plain": [
              "<Figure size 640x480 with 1 Axes>"
            ],
            "image/png": "[encoded data removed]"
          },
          "metadata": {}
        }
      ]
    },
    {
      "cell_type": "code",
      "source": [
        "import pandas as pd\n",
        "\n",
        "# Load the data from your table into a pandas DataFrame\n",
        "df_2 = pd.read_csv('glo_box.csv')\n",
        "\n",
        "# Filter for group B and users who converted\n",
        "group_b_converted = df_2.loc[(df_2['group'] == 'B') & (df_2['sum'] > 0)]\n",
        "\n",
        "# Calculate the conversion rate by gender\n",
        "conversion_rate = group_b_converted.groupby('gender')['id'].nunique() / group_b_converted['id'].nunique()\n",
        "\n",
        "# Calculate the conversion rate by gender and group\n",
        "conversion_rate = pivot_table / df_2.pivot_table(index='gender', columns='group', values='id', aggfunc='nunique')\n",
        "\n",
        "# Extract the conversion rate for group B by gender\n",
        "conversion_rate_b = conversion_rate.loc[:, 'B']\n",
        "\n",
        "# Format the conversion rate as a percentage with one decimal place\n",
        "conversion_rate_b_formatted = (conversion_rate_b * 100).apply(lambda x: \"{:.1f}%\".format(x))\n",
        "\n",
        "# Print the conversion rate for group B by gender\n",
        "print(\"Conversion Rate By Gender For New Webpage (Group B):\\n\", conversion_rate_b_formatted)"
      ],
      "metadata": {
        "colab": {
          "base_uri": "https://localhost:8080/"
        },
        "id": "NQ9cAuxBG5GK",
        "outputId": "84bef26d-0234-4240-ff13-0de912197e57"
      },
      "execution_count": null,
      "outputs": [
        {
          "output_type": "stream",
          "name": "stdout",
          "text": [
            "Conversion Rate By Gender For New Webpage (Group B):\n",
            " gender\n",
            "F    5.4%\n",
            "M    3.8%\n",
            "O    3.0%\n",
            "Name: B, dtype: object\n"
          ]
        }
      ]
    },
    {
      "cell_type": "markdown",
      "source": [
        "#Conversion Rate By Device"
      ],
      "metadata": {
        "id": "-te0IEC_8avv"
      }
    },
    {
      "cell_type": "code",
      "source": [
        "import pandas as pd\n",
        "import matplotlib.pyplot as plt\n",
        "\n",
        "# Load the data from your table into a pandas DataFrame\n",
        "df_2 = pd.read_csv('glo_box.csv')\n",
        "\n",
        "# Create a pivot table that shows the number of users who converted by device and group\n",
        "pivot_table = pd.pivot_table(df_2.loc[df_2['sum'] > 0], index='device', columns='group', values='id', aggfunc='nunique')\n",
        "\n",
        "# Calculate the conversion rate by device and group\n",
        "conversion_rate = pivot_table / df_2.pivot_table(index='device', columns='group', values='id', aggfunc='nunique')\n",
        "\n",
        "# Define bright purple and bright yellow colors\n",
        "colors = ['#FFD700', '#8B00FF']\n",
        "\n",
        "# Create the stacked bar chart\n",
        "ax = conversion_rate.plot(kind='bar', stacked=True, alpha=0.5, color=colors)\n",
        "ax.set_ylabel('Conversion Rate')\n",
        "ax.set_title('Conversion Rate by Device and Group')\n",
        "\n",
        "# Show the chart\n",
        "plt.show()\n",
        "\n",
        "\n"
      ],
      "metadata": {
        "colab": {
          "base_uri": "https://localhost:8080/",
          "height": 467
        },
        "id": "sdYll2rT8eRA",
        "outputId": "f36aadb6-e314-4a13-fb7a-8adfae683079"
      },
      "execution_count": null,
      "outputs": [
        {
          "output_type": "display_data",
          "data": {
            "text/plain": [
              "<Figure size 640x480 with 1 Axes>"
            ],
            "image/png": "[encoded data removed]"
          },
          "metadata": {}
        }
      ]
    },
    {
      "cell_type": "markdown",
      "source": [
        "#Conversion Rate For New Webpage By Country\n"
      ],
      "metadata": {
        "id": "5-Z3qjD1Nia_"
      }
    },
    {
      "cell_type": "code",
      "source": [
        "import pandas as pd\n",
        "import plotly.express as px\n",
        "\n",
        "# Load the data\n",
        "df = pd.read_csv('glo_box.csv')\n",
        "\n",
        "# Calculate the conversion rate by country and group\n",
        "grouped = df.groupby(['country', 'group']).agg({'id': 'count', 'sum': 'sum'}).reset_index()\n",
        "grouped['Conversion_Rate'] = grouped['sum'] / grouped['id']\n",
        "\n",
        "# Get the top 10 converting countries for Group B, in descending order\n",
        "top_countries_b = grouped[grouped['group'] == 'B'].nlargest(10, 'Conversion_Rate').sort_values(by='Conversion_Rate', ascending=False)\n",
        "\n",
        "# Add a new column with the country rank\n",
        "top_countries_b['Rank'] = top_countries_b['Conversion_Rate'].rank(method='dense', ascending=False)\n",
        "\n",
        "# Print the top converting countries in a table\n",
        "print('Top 10 Converting Countries for New Webpage')\n",
        "print(top_countries_b[['Rank', 'country', 'Conversion_Rate']].to_string(index=False))\n",
        "\n",
        "# Create the choropleth map\n",
        "fig = px.choropleth(top_countries_b, locations='country', color='Conversion_Rate', \n",
        "                    color_continuous_scale=px.colors.sequential.Plasma,\n",
        "                    title='Top 10 Converting Countries for New Webpage')\n",
        "fig.show()\n",
        "\n",
        "\n",
        "\n",
        "\n"
      ],
      "metadata": {
        "colab": {
          "base_uri": "https://localhost:8080/",
          "height": 763
        },
        "id": "Qa3AnkXXbTHW",
        "outputId": "9bbbc512-b8d3-4001-d688-2d897ce9bd9b"
      },
      "execution_count": null,
      "outputs": [
        {
          "output_type": "stream",
          "name": "stdout",
          "text": [
            "Top 10 Converting Countries for New Webpage\n",
            " Rank country  Conversion_Rate\n",
            "  1.0     GBR         4.498004\n",
            "  2.0     CAN         4.198568\n",
            "  3.0     USA         4.053452\n",
            "  4.0     MEX         3.345506\n",
            "  5.0     ESP         3.234237\n",
            "  6.0     BRA         3.066117\n",
            "  7.0     DEU         2.708085\n",
            "  8.0     TUR         2.488957\n",
            "  9.0     FRA         2.268101\n",
            " 10.0     AUS         2.080625\n"
          ]
        },
        {
          "output_type": "display_data",
          "data": {
            "text/html": [
              "<html>\n",
              "<head><meta charset=\"utf-8\" /></head>\n",
              "<body>\n",
              "    <div>            <script src=\"https://cdnjs.cloudflare.com/ajax/libs/mathjax/2.7.5/MathJax.js?config=TeX-AMS-MML_SVG\"></script><script type=\"text/javascript\">if (window.MathJax && window.MathJax.Hub && window.MathJax.Hub.Config) {window.MathJax.Hub.Config({SVG: {font: \"STIX-Web\"}});}</script>                <script type=\"text/javascript\">window.PlotlyConfig = {MathJaxConfig: 'local'};</script>\n",
              "        <script src=\"https://cdn.plot.ly/plotly-2.18.2.min.js\"></script>                <div id=\"9d3a73d2-6cd9-4894-8aa8-67d1ad2580fa\" class=\"plotly-graph-div\" style=\"height:525px; width:100%;\"></div>            <script type=\"text/javascript\">                                    window.PLOTLYENV=window.PLOTLYENV || {};                                    if (document.getElementById(\"9d3a73d2-6cd9-4894-8aa8-67d1ad2580fa\")) {                    Plotly.newPlot(                        \"9d3a73d2-6cd9-4894-8aa8-67d1ad2580fa\",                        [{\"coloraxis\":\"coloraxis\",\"geo\":\"geo\",\"hovertemplate\":\"country=%{location}<br>Conversion_Rate=%{z}<extra></extra>\",\"locations\":[\"GBR\",\"CAN\",\"USA\",\"MEX\",\"ESP\",\"BRA\",\"DEU\",\"TUR\",\"FRA\",\"AUS\"],\"name\":\"\",\"z\":[4.498004015963855,4.198567870485679,4.053451967458127,3.345506017355457,3.234237312630522,3.0661169017841865,2.7080852154979467,2.488957185018587,2.2681013117117117,2.080625],\"type\":\"choropleth\"}],                        {\"template\":{\"data\":{\"histogram2dcontour\":[{\"type\":\"histogram2dcontour\",\"colorbar\":{\"outlinewidth\":0,\"ticks\":\"\"},\"colorscale\":[[0.0,\"#0d0887\"],[0.1111111111111111,\"#46039f\"],[0.2222222222222222,\"#7201a8\"],[0.3333333333333333,\"#9c179e\"],[0.4444444444444444,\"#bd3786\"],[0.5555555555555556,\"#d8576b\"],[0.6666666666666666,\"#ed7953\"],[0.7777777777777778,\"#fb9f3a\"],[0.8888888888888888,\"#fdca26\"],[1.0,\"#f0f921\"]]}],\"choropleth\":[{\"type\":\"choropleth\",\"colorbar\":{\"outlinewidth\":0,\"ticks\":\"\"}}],\"histogram2d\":[{\"type\":\"histogram2d\",\"colorbar\":{\"outlinewidth\":0,\"ticks\":\"\"},\"colorscale\":[[0.0,\"#0d0887\"],[0.1111111111111111,\"#46039f\"],[0.2222222222222222,\"#7201a8\"],[0.3333333333333333,\"#9c179e\"],[0.4444444444444444,\"#bd3786\"],[0.5555555555555556,\"#d8576b\"],[0.6666666666666666,\"#ed7953\"],[0.7777777777777778,\"#fb9f3a\"],[0.8888888888888888,\"#fdca26\"],[1.0,\"#f0f921\"]]}],\"heatmap\":[{\"type\":\"heatmap\",\"colorbar\":{\"outlinewidth\":0,\"ticks\":\"\"},\"colorscale\":[[0.0,\"#0d0887\"],[0.1111111111111111,\"#46039f\"],[0.2222222222222222,\"#7201a8\"],[0.3333333333333333,\"#9c179e\"],[0.4444444444444444,\"#bd3786\"],[0.5555555555555556,\"#d8576b\"],[0.6666666666666666,\"#ed7953\"],[0.7777777777777778,\"#fb9f3a\"],[0.8888888888888888,\"#fdca26\"],[1.0,\"#f0f921\"]]}],\"heatmapgl\":[{\"type\":\"heatmapgl\",\"colorbar\":{\"outlinewidth\":0,\"ticks\":\"\"},\"colorscale\":[[0.0,\"#0d0887\"],[0.1111111111111111,\"#46039f\"],[0.2222222222222222,\"#7201a8\"],[0.3333333333333333,\"#9c179e\"],[0.4444444444444444,\"#bd3786\"],[0.5555555555555556,\"#d8576b\"],[0.6666666666666666,\"#ed7953\"],[0.7777777777777778,\"#fb9f3a\"],[0.8888888888888888,\"#fdca26\"],[1.0,\"#f0f921\"]]}],\"contourcarpet\":[{\"type\":\"contourcarpet\",\"colorbar\":{\"outlinewidth\":0,\"ticks\":\"\"}}],\"contour\":[{\"type\":\"contour\",\"colorbar\":{\"outlinewidth\":0,\"ticks\":\"\"},\"colorscale\":[[0.0,\"#0d0887\"],[0.1111111111111111,\"#46039f\"],[0.2222222222222222,\"#7201a8\"],[0.3333333333333333,\"#9c179e\"],[0.4444444444444444,\"#bd3786\"],[0.5555555555555556,\"#d8576b\"],[0.6666666666666666,\"#ed7953\"],[0.7777777777777778,\"#fb9f3a\"],[0.8888888888888888,\"#fdca26\"],[1.0,\"#f0f921\"]]}],\"surface\":[{\"type\":\"surface\",\"colorbar\":{\"outlinewidth\":0,\"ticks\":\"\"},\"colorscale\":[[0.0,\"#0d0887\"],[0.1111111111111111,\"#46039f\"],[0.2222222222222222,\"#7201a8\"],[0.3333333333333333,\"#9c179e\"],[0.4444444444444444,\"#bd3786\"],[0.5555555555555556,\"#d8576b\"],[0.6666666666666666,\"#ed7953\"],[0.7777777777777778,\"#fb9f3a\"],[0.8888888888888888,\"#fdca26\"],[1.0,\"#f0f921\"]]}],\"mesh3d\":[{\"type\":\"mesh3d\",\"colorbar\":{\"outlinewidth\":0,\"ticks\":\"\"}}],\"scatter\":[{\"fillpattern\":{\"fillmode\":\"overlay\",\"size\":10,\"solidity\":0.2},\"type\":\"scatter\"}],\"parcoords\":[{\"type\":\"parcoords\",\"line\":{\"colorbar\":{\"outlinewidth\":0,\"ticks\":\"\"}}}],\"scatterpolargl\":[{\"type\":\"scatterpolargl\",\"marker\":{\"colorbar\":{\"outlinewidth\":0,\"ticks\":\"\"}}}],\"bar\":[{\"error_x\":{\"color\":\"#2a3f5f\"},\"error_y\":{\"color\":\"#2a3f5f\"},\"marker\":{\"line\":{\"color\":\"#E5ECF6\",\"width\":0.5},\"pattern\":{\"fillmode\":\"overlay\",\"size\":10,\"solidity\":0.2}},\"type\":\"bar\"}],\"scattergeo\":[{\"type\":\"scattergeo\",\"marker\":{\"colorbar\":{\"outlinewidth\":0,\"ticks\":\"\"}}}],\"scatterpolar\":[{\"type\":\"scatterpolar\",\"marker\":{\"colorbar\":{\"outlinewidth\":0,\"ticks\":\"\"}}}],\"histogram\":[{\"marker\":{\"pattern\":{\"fillmode\":\"overlay\",\"size\":10,\"solidity\":0.2}},\"type\":\"histogram\"}],\"scattergl\":[{\"type\":\"scattergl\",\"marker\":{\"colorbar\":{\"outlinewidth\":0,\"ticks\":\"\"}}}],\"scatter3d\":[{\"type\":\"scatter3d\",\"line\":{\"colorbar\":{\"outlinewidth\":0,\"ticks\":\"\"}},\"marker\":{\"colorbar\":{\"outlinewidth\":0,\"ticks\":\"\"}}}],\"scattermapbox\":[{\"type\":\"scattermapbox\",\"marker\":{\"colorbar\":{\"outlinewidth\":0,\"ticks\":\"\"}}}],\"scatterternary\":[{\"type\":\"scatterternary\",\"marker\":{\"colorbar\":{\"outlinewidth\":0,\"ticks\":\"\"}}}],\"scattercarpet\":[{\"type\":\"scattercarpet\",\"marker\":{\"colorbar\":{\"outlinewidth\":0,\"ticks\":\"\"}}}],\"carpet\":[{\"aaxis\":{\"endlinecolor\":\"#2a3f5f\",\"gridcolor\":\"white\",\"linecolor\":\"white\",\"minorgridcolor\":\"white\",\"startlinecolor\":\"#2a3f5f\"},\"baxis\":{\"endlinecolor\":\"#2a3f5f\",\"gridcolor\":\"white\",\"linecolor\":\"white\",\"minorgridcolor\":\"white\",\"startlinecolor\":\"#2a3f5f\"},\"type\":\"carpet\"}],\"table\":[{\"cells\":{\"fill\":{\"color\":\"#EBF0F8\"},\"line\":{\"color\":\"white\"}},\"header\":{\"fill\":{\"color\":\"#C8D4E3\"},\"line\":{\"color\":\"white\"}},\"type\":\"table\"}],\"barpolar\":[{\"marker\":{\"line\":{\"color\":\"#E5ECF6\",\"width\":0.5},\"pattern\":{\"fillmode\":\"overlay\",\"size\":10,\"solidity\":0.2}},\"type\":\"barpolar\"}],\"pie\":[{\"automargin\":true,\"type\":\"pie\"}]},\"layout\":{\"autotypenumbers\":\"strict\",\"colorway\":[\"#636efa\",\"#EF553B\",\"#00cc96\",\"#ab63fa\",\"#FFA15A\",\"#19d3f3\",\"#FF6692\",\"#B6E880\",\"#FF97FF\",\"#FECB52\"],\"font\":{\"color\":\"#2a3f5f\"},\"hovermode\":\"closest\",\"hoverlabel\":{\"align\":\"left\"},\"paper_bgcolor\":\"white\",\"plot_bgcolor\":\"#E5ECF6\",\"polar\":{\"bgcolor\":\"#E5ECF6\",\"angularaxis\":{\"gridcolor\":\"white\",\"linecolor\":\"white\",\"ticks\":\"\"},\"radialaxis\":{\"gridcolor\":\"white\",\"linecolor\":\"white\",\"ticks\":\"\"}},\"ternary\":{\"bgcolor\":\"#E5ECF6\",\"aaxis\":{\"gridcolor\":\"white\",\"linecolor\":\"white\",\"ticks\":\"\"},\"baxis\":{\"gridcolor\":\"white\",\"linecolor\":\"white\",\"ticks\":\"\"},\"caxis\":{\"gridcolor\":\"white\",\"linecolor\":\"white\",\"ticks\":\"\"}},\"coloraxis\":{\"colorbar\":{\"outlinewidth\":0,\"ticks\":\"\"}},\"colorscale\":{\"sequential\":[[0.0,\"#0d0887\"],[0.1111111111111111,\"#46039f\"],[0.2222222222222222,\"#7201a8\"],[0.3333333333333333,\"#9c179e\"],[0.4444444444444444,\"#bd3786\"],[0.5555555555555556,\"#d8576b\"],[0.6666666666666666,\"#ed7953\"],[0.7777777777777778,\"#fb9f3a\"],[0.8888888888888888,\"#fdca26\"],[1.0,\"#f0f921\"]],\"sequentialminus\":[[0.0,\"#0d0887\"],[0.1111111111111111,\"#46039f\"],[0.2222222222222222,\"#7201a8\"],[0.3333333333333333,\"#9c179e\"],[0.4444444444444444,\"#bd3786\"],[0.5555555555555556,\"#d8576b\"],[0.6666666666666666,\"#ed7953\"],[0.7777777777777778,\"#fb9f3a\"],[0.8888888888888888,\"#fdca26\"],[1.0,\"#f0f921\"]],\"diverging\":[[0,\"#8e0152\"],[0.1,\"#c51b7d\"],[0.2,\"#de77ae\"],[0.3,\"#f1b6da\"],[0.4,\"#fde0ef\"],[0.5,\"#f7f7f7\"],[0.6,\"#e6f5d0\"],[0.7,\"#b8e186\"],[0.8,\"#7fbc41\"],[0.9,\"#4d9221\"],[1,\"#276419\"]]},\"xaxis\":{\"gridcolor\":\"white\",\"linecolor\":\"white\",\"ticks\":\"\",\"title\":{\"standoff\":15},\"zerolinecolor\":\"white\",\"automargin\":true,\"zerolinewidth\":2},\"yaxis\":{\"gridcolor\":\"white\",\"linecolor\":\"white\",\"ticks\":\"\",\"title\":{\"standoff\":15},\"zerolinecolor\":\"white\",\"automargin\":true,\"zerolinewidth\":2},\"scene\":{\"xaxis\":{\"backgroundcolor\":\"#E5ECF6\",\"gridcolor\":\"white\",\"linecolor\":\"white\",\"showbackground\":true,\"ticks\":\"\",\"zerolinecolor\":\"white\",\"gridwidth\":2},\"yaxis\":{\"backgroundcolor\":\"#E5ECF6\",\"gridcolor\":\"white\",\"linecolor\":\"white\",\"showbackground\":true,\"ticks\":\"\",\"zerolinecolor\":\"white\",\"gridwidth\":2},\"zaxis\":{\"backgroundcolor\":\"#E5ECF6\",\"gridcolor\":\"white\",\"linecolor\":\"white\",\"showbackground\":true,\"ticks\":\"\",\"zerolinecolor\":\"white\",\"gridwidth\":2}},\"shapedefaults\":{\"line\":{\"color\":\"#2a3f5f\"}},\"annotationdefaults\":{\"arrowcolor\":\"#2a3f5f\",\"arrowhead\":0,\"arrowwidth\":1},\"geo\":{\"bgcolor\":\"white\",\"landcolor\":\"#E5ECF6\",\"subunitcolor\":\"white\",\"showland\":true,\"showlakes\":true,\"lakecolor\":\"white\"},\"title\":{\"x\":0.05},\"mapbox\":{\"style\":\"light\"}}},\"geo\":{\"domain\":{\"x\":[0.0,1.0],\"y\":[0.0,1.0]},\"center\":{}},\"coloraxis\":{\"colorbar\":{\"title\":{\"text\":\"Conversion_Rate\"}},\"colorscale\":[[0.0,\"#0d0887\"],[0.1111111111111111,\"#46039f\"],[0.2222222222222222,\"#7201a8\"],[0.3333333333333333,\"#9c179e\"],[0.4444444444444444,\"#bd3786\"],[0.5555555555555556,\"#d8576b\"],[0.6666666666666666,\"#ed7953\"],[0.7777777777777778,\"#fb9f3a\"],[0.8888888888888888,\"#fdca26\"],[1.0,\"#f0f921\"]]},\"legend\":{\"tracegroupgap\":0},\"title\":{\"text\":\"Top 10 Converting Countries for New Webpage\"}},                        {\"responsive\": true}                    ).then(function(){\n",
              "                            \n",
              "var gd = document.getElementById('9d3a73d2-6cd9-4894-8aa8-67d1ad2580fa');\n",
              "var x = new MutationObserver(function (mutations, observer) {{\n",
              "        var display = window.getComputedStyle(gd).display;\n",
              "        if (!display || display === 'none') {{\n",
              "            console.log([gd, 'removed!']);\n",
              "            Plotly.purge(gd);\n",
              "            observer.disconnect();\n",
              "        }}\n",
              "}});\n",
              "\n",
              "// Listen for the removal of the full notebook cells\n",
              "var notebookContainer = gd.closest('#notebook-container');\n",
              "if (notebookContainer) {{\n",
              "    x.observe(notebookContainer, {childList: true});\n",
              "}}\n",
              "\n",
              "// Listen for the clearing of the current output cell\n",
              "var outputEl = gd.closest('.output');\n",
              "if (outputEl) {{\n",
              "    x.observe(outputEl, {childList: true});\n",
              "}}\n",
              "\n",
              "                        })                };                            </script>        </div>\n",
              "</body>\n",
              "</html>"
            ]
          },
          "metadata": {}
        }
      ]
    },
    {
      "cell_type": "code",
      "source": [
        "!pip install geopandas\n"
      ],
      "metadata": {
        "id": "riUf52G8dlBq"
      },
      "execution_count": null,
      "outputs": []
    },
    {
      "cell_type": "markdown",
      "source": [
        "#Conversion Rate Per Device For New Webpage Device\n",
        "\n",
        "\n",
        "---\n",
        "\n"
      ],
      "metadata": {
        "id": "5ixLV-c7m1ZM"
      }
    },
    {
      "cell_type": "code",
      "source": [
        "import pandas as pd\n",
        "import matplotlib.pyplot as plt\n",
        "\n",
        "# Load the data from your table into a pandas DataFrame\n",
        "df_2 = pd.read_csv('glo_box.csv')\n",
        "\n",
        "# Create a pivot table that shows the number of users who converted by device and group\n",
        "pivot_table = pd.pivot_table(df_2.loc[df_2['sum'] > 0], index='device', columns='group', values='id', aggfunc='nunique')\n",
        "\n",
        "# Calculate the conversion rate by device and group\n",
        "conversion_rate = pivot_table / df_2.pivot_table(index='device', columns='group', values='id', aggfunc='nunique')\n",
        "\n",
        "# Create the stacked bar chart for group B\n",
        "ax = conversion_rate.loc[:, 'B'].plot(kind='bar', color=['green', 'blue'], alpha=0.5)\n",
        "ax.set_ylabel('Conversion Rate')\n",
        "ax.set_title('Conversion Rate for New Webpage Design')\n",
        "ax.set_xticklabels(['Android', 'iPhone'], rotation=90)\n",
        "\n",
        "# Remove extra white space at the bottom\n",
        "plt.subplots_adjust(bottom=0.15)\n",
        "\n",
        "# Show the chart\n",
        "plt.show()\n",
        "\n",
        "\n",
        "\n",
        "\n",
        "\n",
        "\n",
        "\n",
        "\n",
        "\n",
        "\n"
      ],
      "metadata": {
        "colab": {
          "base_uri": "https://localhost:8080/",
          "height": 492
        },
        "id": "-lzrbGbXqeNn",
        "outputId": "3185b588-7d09-4ed8-dcb9-a4d8dcb7832d"
      },
      "execution_count": null,
      "outputs": [
        {
          "output_type": "display_data",
          "data": {
            "text/plain": [
              "<Figure size 640x480 with 1 Axes>"
            ],
            "image/png": "[encoded data removed]"
          },
          "metadata": {}
        }
      ]
    },
    {
      "cell_type": "code",
      "source": [
        "import pandas as pd\n",
        "\n",
        "# Load the data from your table into a pandas DataFrame\n",
        "df_2 = pd.read_csv('glo_box.csv')\n",
        "\n",
        "# Create a pivot table that shows the number of users who converted by device and group\n",
        "pivot_table = pd.pivot_table(df_2.loc[df_2['sum'] > 0], index='device', columns='group', values='id', aggfunc='nunique')\n",
        "\n",
        "# Calculate the conversion rate by device and group\n",
        "conversion_rate = pivot_table / df_2.pivot_table(index='device', columns='group', values='id', aggfunc='nunique')\n",
        "\n",
        "# Print the conversion rate for Android\n",
        "print(\"Conversion rate for Android: {:.2%}\".format(conversion_rate.loc['A', 'B']))\n",
        "\n",
        "# Print the conversion rate for iPhone\n",
        "print(\"Conversion rate for iPhone: {:.2%}\".format(conversion_rate.loc['I', 'B']))\n"
      ],
      "metadata": {
        "colab": {
          "base_uri": "https://localhost:8080/"
        },
        "id": "Nhg4EIm1uYyI",
        "outputId": "4bd84f14-f5af-4ded-dd3e-06329f9338e4"
      },
      "execution_count": null,
      "outputs": [
        {
          "output_type": "stream",
          "name": "stdout",
          "text": [
            "Conversion rate for Android: 3.52%\n",
            "Conversion rate for iPhone: 6.47%\n"
          ]
        }
      ]
    },
    {
      "cell_type": "code",
      "source": [
        "\n",
        "\n"
      ],
      "metadata": {
        "id": "yB4rvjn6kpr-"
      },
      "execution_count": null,
      "outputs": []
    }
  ]
}